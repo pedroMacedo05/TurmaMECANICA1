{
  "cells": [
    {
      "cell_type": "markdown",
      "metadata": {
        "id": "view-in-github",
        "colab_type": "text"
      },
      "source": [
        "<a href=\"https://colab.research.google.com/github/pedroMacedo05/TurmaMECANICA1/blob/main/Ol%C3%A1%2C_este_%C3%A9_o_Colaboratory.ipynb\" target=\"_parent\"><img src=\"https://colab.research.google.com/assets/colab-badge.svg\" alt=\"Open In Colab\"/></a>"
      ]
    },
    {
      "cell_type": "code",
      "source": [
        "x = int(input(\"digite o número inteiro   \"))\n",
        "\n",
        "if x % 3 == 0:\n",
        "  print(\"Seu número é divisivel por três   \")\n",
        "else:\n",
        "  print(\"Seu número não é divisivel por três\")\n",
        "\n",
        "\n"
      ],
      "metadata": {
        "id": "8H-8SpKgEtFN"
      },
      "execution_count": null,
      "outputs": []
    },
    {
      "cell_type": "code",
      "source": [
        "x = int(input(\"digite nota 1  \"))\n",
        "y = int(input(\"digite nota 2  \"))\n",
        "\n",
        "a = ((x * 2) + (y * 3)) / 5\n",
        "\n",
        "if a >= 5:\n",
        "  print(f\"O aluno está aprovado, a sua media foi {a}\")\n",
        "else:\n",
        "  print(f\"O aluno está reprovado, a sua media foi {a}\")"
      ],
      "metadata": {
        "colab": {
          "base_uri": "https://localhost:8080/"
        },
        "id": "s_uro4gMKvx2",
        "outputId": "0dc2df0b-7400-4bb9-efef-698f4ae6a774"
      },
      "execution_count": null,
      "outputs": [
        {
          "output_type": "stream",
          "name": "stdout",
          "text": [
            "digite nota 1  10\n",
            "digite nota 2  1\n",
            "O aluno está reprovado, a sua media foi 4.6\n"
          ]
        }
      ]
    },
    {
      "cell_type": "code",
      "source": [
        "a = int(input(\"Digite o número 1: \"))\n",
        "b = int(input(\"Digite o número 2: \"))\n",
        "c = int(input(\"Digite o número 3: \"))\n",
        "\n",
        "if a < b and c:\n",
        "  print(f\"a é o menor valor, o valor de a é {a}\")\n",
        "elif b < a and c:\n",
        "  print(f\"b é o menor valor, o valor de b é {b}\")\n",
        "else:\n",
        "  print(f\"c é o menor valor, o  valor de c é {c}\")\n"
      ],
      "metadata": {
        "colab": {
          "base_uri": "https://localhost:8080/"
        },
        "id": "5jTXzj-pSp9d",
        "outputId": "c02ec800-1e21-4638-8f30-a6dcb6a76c3e"
      },
      "execution_count": null,
      "outputs": [
        {
          "output_type": "stream",
          "name": "stdout",
          "text": [
            "Digite o número 1: 1\n",
            "Digite o número 2: 4\n",
            "Digite o número 3: 6\n",
            "a é o menor valor, o valor de a é 1\n"
          ]
        }
      ]
    }
  ],
  "metadata": {
    "colab": {
      "name": "Olá, este é o Colaboratory",
      "toc_visible": true,
      "provenance": [],
      "include_colab_link": true
    },
    "kernelspec": {
      "display_name": "Python 3",
      "name": "python3"
    }
  },
  "nbformat": 4,
  "nbformat_minor": 0
}